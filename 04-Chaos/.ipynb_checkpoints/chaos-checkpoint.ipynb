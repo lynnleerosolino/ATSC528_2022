{
 "cells": [
  {
   "cell_type": "code",
   "execution_count": 14,
   "id": "55c27f76",
   "metadata": {},
   "outputs": [],
   "source": [
    "\"\"\"\n",
    "Created By    : Lynnlee Rosolino\n",
    "Creation Date : 06 December 2022\n",
    "Course        : ATSC 528 - Atmospheric Data Analysis\n",
    "Assignment    : #04 - Chaos\n",
    "\n",
    "Purpose:\n",
    "Script to examine how chaos manifests in simple model.\n",
    "Two simulations were run, with slightly different initial conditions.\n",
    "X, Y, and Z values were plotted for each simulation, and then the two were\n",
    "plotted on top of eachother to see how the values changed with time.\n",
    "\n",
    "\"\"\"\n",
    "__author__    = \"Lynnlee Rosolino\"\n",
    "__contact__   = \"lynnlee.rosolino@und.edu\""
   ]
  },
  {
   "cell_type": "code",
   "execution_count": 15,
   "id": "7335135f",
   "metadata": {},
   "outputs": [],
   "source": [
    "### Import Required Modules (shouldn't need to change) ###\n",
    "import numpy as np                 #numpy for math\n",
    "import matplotlib.pyplot as plt    #matplotlib for plotting\n",
    "import cartopy.crs as ccrs         #cartopy for plotting on map\n",
    "import cartopy.feature as cfeature #cartopy basic shapefiles\n",
    "import pandas as pd                #pandas tospite jared one last time"
   ]
  },
  {
   "cell_type": "code",
   "execution_count": 16,
   "id": "60aa8beb-b26d-44b4-b33e-3deea3631f21",
   "metadata": {},
   "outputs": [],
   "source": [
    "#constants\n",
    "a=0.25\n",
    "b=4.0\n",
    "F=8.0\n",
    "G=1.0\n",
    "time_step=4/(24*5)"
   ]
  },
  {
   "cell_type": "code",
   "execution_count": 17,
   "id": "714e367e-f9be-4702-83ef-5d1f9e8f8fd4",
   "metadata": {},
   "outputs": [],
   "source": [
    "#define function for equation\n",
    "def eqns(x,y,z):\n",
    "    xeqn=x+time_step*(-(y**2)-(z**2)-(a*x)+(a*F))\n",
    "    yeqn=y+time_step*((x*y)-(b*x*z)-y+G)\n",
    "    zeqn=z+time_step*((b*x*y)+(x*z)-z)\n",
    "    #return a list\n",
    "    return([xeqn,yeqn,zeqn])"
   ]
  },
  {
   "cell_type": "code",
   "execution_count": 18,
   "id": "95b9a42d-e8f8-4013-b47d-9d194c57b95c",
   "metadata": {},
   "outputs": [],
   "source": [
    "#first simulation\n",
    "#make empty arrays\n",
    "first_sim_x=np.zeros([720])\n",
    "first_sim_y=np.zeros([720])\n",
    "first_sim_z=np.zeros([720])\n",
    "\n",
    "#set initial conditions\n",
    "first_sim_x[0]=2.5\n",
    "first_sim_y[0]=1.0\n",
    "first_sim_z[0]=0.0\n",
    "\n",
    "#loop through each time step and apply the equations using the previous index\n",
    "for i in range(1,720):\n",
    "    sim=eqns(first_sim_x[i-1],first_sim_y[i-1],first_sim_z[i-1])\n",
    "    #set the calculated value as the new value\n",
    "    first_sim_x[i]=sim[0]\n",
    "    first_sim_y[i]=sim[1]\n",
    "    first_sim_z[i]=sim[2]"
   ]
  },
  {
   "cell_type": "code",
   "execution_count": 20,
   "id": "97b612ef-7737-496c-ab0d-05980316f72e",
   "metadata": {},
   "outputs": [],
   "source": [
    "#plot\n",
    "fig = plt.figure(figsize=(12,6))\n",
    "plt.title(\"first simulation\")\n",
    "ax1=fig.add_subplot(311)\n",
    "ax1.plot(first_sim_x[:],color=\"lightcoral\")\n",
    "plt.xlabel(\"timesteps\")\n",
    "plt.ylabel(\"x values\")\n",
    "ax2=fig.add_subplot(312)\n",
    "ax2.plot(first_sim_y[:],color=\"mediumturquoise\")\n",
    "plt.xlabel(\"timesteps\")\n",
    "plt.ylabel(\"y values\")\n",
    "ax3=fig.add_subplot(313)\n",
    "ax3.plot(first_sim_z[:],color=\"yellow\")\n",
    "plt.xlabel(\"timesteps\")\n",
    "plt.ylabel(\"z values\")\n",
    "#plt.savefig('first_simulation.png')\n",
    "plt.close()"
   ]
  },
  {
   "cell_type": "code",
   "execution_count": 21,
   "id": "a2d70260-474b-4846-bb38-78bdb64bd0e8",
   "metadata": {},
   "outputs": [],
   "source": [
    "#second simulation\n",
    "sec_sim_x=np.zeros([720])\n",
    "sec_sim_y=np.zeros([720])\n",
    "sec_sim_z=np.zeros([720])\n",
    "\n",
    "#set initial conditions\n",
    "sec_sim_x[0]=2.49\n",
    "sec_sim_y[0]=1.0\n",
    "sec_sim_z[0]=0.0\n",
    "\n",
    "#loop through each time step and apply the equations using the previous index\n",
    "for i in range(1,720):\n",
    "    sim2=eqns(sec_sim_x[i-1],sec_sim_y[i-1],sec_sim_z[i-1])\n",
    "    #set the calculated value as the new value\n",
    "    sec_sim_x[i]=sim2[0]\n",
    "    sec_sim_y[i]=sim2[1]\n",
    "    sec_sim_z[i]=sim2[2]"
   ]
  },
  {
   "cell_type": "code",
   "execution_count": 22,
   "id": "1d096fa2-8120-49a2-880f-e85052b3191d",
   "metadata": {},
   "outputs": [],
   "source": [
    "#plot\n",
    "fig = plt.figure(figsize=(12,5))\n",
    "plt.title(\"second simulation\")\n",
    "ax1=fig.add_subplot(311)\n",
    "ax1.plot(sec_sim_x[:],color=\"lightcoral\")\n",
    "plt.xlabel(\"timesteps\")\n",
    "plt.ylabel(\"x values\")\n",
    "ax2=fig.add_subplot(312)\n",
    "ax2.plot(sec_sim_y[:],color=\"mediumturquoise\")\n",
    "plt.xlabel(\"timesteps\")\n",
    "plt.ylabel(\"y values\")\n",
    "ax3=fig.add_subplot(313)\n",
    "ax3.plot(sec_sim_z[:],color=\"yellow\")\n",
    "plt.xlabel(\"timesteps\")\n",
    "plt.ylabel(\"z values\")\n",
    "#plt.savefig('second_simulation.png')\n",
    "plt.close()"
   ]
  },
  {
   "cell_type": "code",
   "execution_count": 23,
   "id": "ddcd0cb3-c434-4513-85a9-7f46abd8560b",
   "metadata": {},
   "outputs": [],
   "source": [
    "#combine plots\n",
    "x_axis=(np.arange(0,720,1))\n",
    "fig=plt.figure(figsize=(8,8))\n",
    "ax1=fig.add_subplot(311)\n",
    "ax1.plot(x_axis,first_sim_x[:],color=\"lightcoral\",label=\"first sim\")\n",
    "ax1.plot(x_axis,sec_sim_x[:],color=\"mediumturquoise\",label=\"second sim\")\n",
    "plt.legend(loc='lower right')\n",
    "plt.title(\"x-values\")\n",
    "#plt.savefig('exes.png')\n",
    "plt.close()\n",
    "fig=plt.figure(figsize=(8,8))\n",
    "ax2=fig.add_subplot(312)\n",
    "ax2.plot(x_axis,first_sim_y[:],color=\"lightcoral\",label=\"first sim\")\n",
    "ax2.plot(x_axis,sec_sim_y[:],color=\"mediumturquoise\",label=\"second sim\")\n",
    "plt.legend(loc='lower right')\n",
    "plt.title(\"y-values\")\n",
    "#plt.savefig('whys.png')\n",
    "plt.close()\n",
    "fig=plt.figure(figsize=(8,8))\n",
    "ax3=fig.add_subplot(312)\n",
    "ax3.plot(x_axis,first_sim_x[:],color=\"lightcoral\",label=\"first sim\")\n",
    "ax3.plot(x_axis,sec_sim_x[:],color=\"mediumturquoise\",label=\"second sim\")\n",
    "plt.legend(loc='lower right')\n",
    "plt.title(\"z-values\")\n",
    "#plt.savefig('zzzzs(sleeping).png')\n",
    "plt.close()\n",
    "        "
   ]
  },
  {
   "cell_type": "code",
   "execution_count": 24,
   "id": "d5507f28",
   "metadata": {},
   "outputs": [
    {
     "data": {
      "text/plain": [
       "'\\n    \\n\\n'"
      ]
     },
     "execution_count": 24,
     "metadata": {},
     "output_type": "execute_result"
    }
   ],
   "source": [
    "### In a separte text file (or below), provide a discussion of your results ###\n",
    "### Make sure to answer the following questions in your discussion          ###\n",
    "### 1 - Are the two simulations the same throughout the entire period?      ###\n",
    "###     If not, when do they diverge? \n",
    "\n",
    "#        The two simulations are different. They begin fairly similarly, but as early as\n",
    "#        time step 100 the begin to diverge. The major divergence begins closer to timestep\n",
    "#        400. Everywhere beyond timestep 400 the two simulations are very different.\n",
    "    \n",
    "### 2 - If the ending points are different, what does this say regarding    ###\n",
    "###     the importance of providing NWP models, assuming this serves as a   ###\n",
    "###     proxy for one, with accurate and balanced initial conditions?       ###\n",
    "\n",
    "#       Even a simple difference of 0.01 in the initial x conditions (and no changes\n",
    "#       in the y or z initial conditions) causes significant differences in results.\n",
    "#       This implies that providing an NWP model with slightly inaccurate conditions\n",
    "#       would heavily impact forecasts, especially looking farther out from the initial\n",
    "#       time.\n",
    "'''\n",
    "    \n",
    "\n",
    "'''"
   ]
  },
  {
   "cell_type": "code",
   "execution_count": null,
   "id": "3bcbc1be-1c3e-4068-bf66-882781a9a74b",
   "metadata": {},
   "outputs": [],
   "source": []
  }
 ],
 "metadata": {
  "kernelspec": {
   "display_name": "Python 3 (ipykernel)",
   "language": "python",
   "name": "python3"
  },
  "language_info": {
   "codemirror_mode": {
    "name": "ipython",
    "version": 3
   },
   "file_extension": ".py",
   "mimetype": "text/x-python",
   "name": "python",
   "nbconvert_exporter": "python",
   "pygments_lexer": "ipython3",
   "version": "3.10.4"
  }
 },
 "nbformat": 4,
 "nbformat_minor": 5
}
